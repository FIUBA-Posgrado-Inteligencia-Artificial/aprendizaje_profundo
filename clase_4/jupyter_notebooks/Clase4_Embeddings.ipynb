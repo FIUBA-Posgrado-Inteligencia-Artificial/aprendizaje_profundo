{
  "cells": [
    {
      "cell_type": "markdown",
      "metadata": {
        "id": "6hnAb_E0gZFA"
      },
      "source": [
        "# Aprendizaje Profundo - Clase 4\n",
        "\n"
      ]
    },
    {
      "cell_type": "code",
      "execution_count": 1,
      "metadata": {
        "id": "TUEjdowba98t"
      },
      "outputs": [],
      "source": [
        "import pandas as pd\n",
        "import numpy as np\n",
        "import matplotlib.pyplot as plt"
      ]
    },
    {
      "cell_type": "markdown",
      "metadata": {
        "id": "fVMKJ1DihXiv"
      },
      "source": [
        "## Dataset\n"
      ]
    },
    {
      "cell_type": "code",
      "execution_count": 2,
      "metadata": {
        "id": "dF9wgHw5jTW8"
      },
      "outputs": [],
      "source": [
        "df = pd.read_csv(\"/content/drive/MyDrive/Trabajo AP/class_7_wine_dataset_v2.csv\")"
      ]
    },
    {
      "cell_type": "code",
      "execution_count": 3,
      "metadata": {
        "id": "iZQcwiXclslE"
      },
      "outputs": [],
      "source": [
        "# Type es tipo categórica, transformamos con One Hot Encoding\n",
        "type_dummies = pd.get_dummies(df['type'], prefix=\"type\")\n",
        "df = pd.concat([df,type_dummies], axis = 1)"
      ]
    },
    {
      "cell_type": "code",
      "execution_count": 4,
      "metadata": {
        "id": "oRo9kIhLo-44"
      },
      "outputs": [],
      "source": [
        "# Transformamos el problema en clasificación binaria\n",
        "df[\"quality_label\"] = df[\"quality\"].apply(lambda q:0 if q<=6 else 1)"
      ]
    },
    {
      "cell_type": "code",
      "execution_count": 5,
      "metadata": {
        "id": "ddfgs8-oqdJh"
      },
      "outputs": [],
      "source": [
        "# Como tenemos pocos nan, borramos las filas donde hay nan y trabajamos con un dataset completo\n",
        "ds = df[df.isna().sum(axis = 1) == 0]"
      ]
    },
    {
      "cell_type": "code",
      "execution_count": 6,
      "metadata": {
        "id": "zE5f2XsqrTr_"
      },
      "outputs": [],
      "source": [
        "# Guardo vendor_id para modelo con embeddings\n",
        "vendor_id = ds['vendor_id']\n",
        "# Recordar que debo borrar del dataset de entrada mi columna de salida!\n",
        "x = ds.drop(['Unnamed: 0','type','vendor_id','quality','quality_label'], axis=1) \n",
        "y = ds['quality_label']"
      ]
    },
    {
      "cell_type": "code",
      "execution_count": 7,
      "metadata": {
        "colab": {
          "base_uri": "https://localhost:8080/"
        },
        "id": "SpU9XA4yr8wv",
        "outputId": "eb04c488-fa92-489b-92b9-e7908c51dff6"
      },
      "outputs": [
        {
          "name": "stdout",
          "output_type": "stream",
          "text": [
            "<class 'pandas.core.frame.DataFrame'>\n",
            "Int64Index: 6463 entries, 0 to 6496\n",
            "Data columns (total 13 columns):\n",
            " #   Column                Non-Null Count  Dtype  \n",
            "---  ------                --------------  -----  \n",
            " 0   fixed acidity         6463 non-null   float64\n",
            " 1   volatile acidity      6463 non-null   float64\n",
            " 2   citric acid           6463 non-null   float64\n",
            " 3   residual sugar        6463 non-null   float64\n",
            " 4   chlorides             6463 non-null   float64\n",
            " 5   free sulfur dioxide   6463 non-null   float64\n",
            " 6   total sulfur dioxide  6463 non-null   float64\n",
            " 7   density               6463 non-null   float64\n",
            " 8   pH                    6463 non-null   float64\n",
            " 9   sulphates             6463 non-null   float64\n",
            " 10  alcohol               6463 non-null   float64\n",
            " 11  type_red              6463 non-null   uint8  \n",
            " 12  type_white            6463 non-null   uint8  \n",
            "dtypes: float64(11), uint8(2)\n",
            "memory usage: 618.5 KB\n"
          ]
        }
      ],
      "source": [
        "x.info()"
      ]
    },
    {
      "cell_type": "code",
      "execution_count": 8,
      "metadata": {
        "id": "T6PPDNHIsHMM"
      },
      "outputs": [],
      "source": [
        "# Normalizacion\n",
        "x = x.to_numpy()\n",
        "y = y.to_numpy()\n",
        "x_norm = (x - np.min(x, axis=0)) / (np.max(x, axis=0 ) - np.min(x, axis=0))"
      ]
    },
    {
      "cell_type": "code",
      "execution_count": 9,
      "metadata": {
        "id": "-VbD8cR8yzD4"
      },
      "outputs": [],
      "source": [
        "# Divido el dataset\n",
        "idx = np.random.permutation(x_norm.shape[0])\n",
        "train_idx = idx[0:int(0.85*len(idx))]\n",
        "valid_idx = idx[int(0.85*len(idx)):]\n",
        "\n",
        "train_x = x_norm[train_idx]\n",
        "train_y = y[train_idx]\n",
        "valid_x = x_norm[valid_idx]\n",
        "valid_y = y[valid_idx]\n",
        "\n",
        "n_train = train_x.shape[0]\n",
        "n_valid = valid_x.shape[0]"
      ]
    },
    {
      "cell_type": "markdown",
      "metadata": {
        "id": "bTEFahXrwte2"
      },
      "source": [
        "## Pytorch"
      ]
    },
    {
      "cell_type": "markdown",
      "metadata": {
        "id": "ShQPH5bgik2A"
      },
      "source": [
        "### Modelo sin embeddings"
      ]
    },
    {
      "cell_type": "code",
      "execution_count": 10,
      "metadata": {
        "id": "sCQz7nDkuK7S"
      },
      "outputs": [],
      "source": [
        "import torch\n",
        "from torch.utils.data import Dataset, DataLoader\n",
        "from sklearn import metrics"
      ]
    },
    {
      "cell_type": "code",
      "execution_count": 11,
      "metadata": {
        "id": "gUpc_S5Fw_Nk"
      },
      "outputs": [],
      "source": [
        "# Pytorch necesita de una clase de dataset que extienda de torch.utils.data.Dataset\n",
        "# Esta clase dataset debe sobreescribir los métodos init, len y getitem\n",
        "class MyDataset(Dataset):\n",
        "\n",
        "  #__init__ guarda el dataset en una variable de clase\n",
        "  def __init__(self, x, y):\n",
        "    self.x = x\n",
        "    self.y = y\n",
        "\n",
        "  # __len__ define el comportamiento de la función len() sobre el objeto\n",
        "  def __len__(self):\n",
        "    return self.x.shape[0]\n",
        "\n",
        "  # __getitem__ define el comportamiento de los []\n",
        "  def __getitem__(self, idx):\n",
        "    return self.x[idx], self.y[idx]"
      ]
    },
    {
      "cell_type": "code",
      "execution_count": 12,
      "metadata": {
        "id": "eGbN4tbtzU6o"
      },
      "outputs": [],
      "source": [
        "# Creo el dataset de entrenamiento\n",
        "train_ds = MyDataset(train_x, train_y)\n",
        "# Creo el dataset de validación\n",
        "valid_ds = MyDataset(valid_x, valid_y)"
      ]
    },
    {
      "cell_type": "code",
      "execution_count": 13,
      "metadata": {
        "id": "6sFTrMOJ073s"
      },
      "outputs": [],
      "source": [
        "# Pytorch utiliza DataLoader para entregar los dataset de a batches\n",
        "train_dataloader = DataLoader(train_ds, batch_size = 64, shuffle= True)\n",
        "valid_dataloader = DataLoader(valid_ds, batch_size=64)"
      ]
    },
    {
      "cell_type": "code",
      "execution_count": 14,
      "metadata": {
        "id": "1B95zN1m5r6c"
      },
      "outputs": [],
      "source": [
        "# Arquitectura\n",
        "class NNet(torch.nn.Module):\n",
        "\n",
        "  def __init__(self):\n",
        "    # Defino la arquitectura de la red\n",
        "    super().__init__()\n",
        "    self.linear_1 = torch.nn.Linear(in_features=13, out_features=200, bias=True)\n",
        "    self.relu_1 = torch.nn.ReLU()\n",
        "    self.linear_2 = torch.nn.Linear(in_features = 200, out_features=100, bias=True)\n",
        "    self.relu_2 = torch.nn.ReLU()\n",
        "    self.output = torch.nn.Linear(in_features = 100, out_features= 1, bias=True)\n",
        "\n",
        "  def forward(self, x):\n",
        "    # Defino el cálculo del paso forward\n",
        "    x = self.linear_1(x)\n",
        "    x = self.relu_1(x)\n",
        "    x = self.linear_2(x)\n",
        "    x = self.relu_2(x)\n",
        "    x = self.output(x)\n",
        "    return x"
      ]
    },
    {
      "cell_type": "code",
      "execution_count": 15,
      "metadata": {
        "id": "QLOh2lz4_NXl"
      },
      "outputs": [],
      "source": [
        "# Instanciamos la red\n",
        "nnet = NNet()"
      ]
    },
    {
      "cell_type": "code",
      "execution_count": 16,
      "metadata": {
        "id": "GjJ2wX6wChK4"
      },
      "outputs": [],
      "source": [
        "# Función de pérdida y optimizador\n",
        "loss_function = torch.nn.BCEWithLogitsLoss(reduction='sum')\n",
        "optimizer = torch.optim.Adam(nnet.parameters(), lr=0.01)"
      ]
    },
    {
      "cell_type": "code",
      "execution_count": 17,
      "metadata": {
        "colab": {
          "base_uri": "https://localhost:8080/",
          "height": 36
        },
        "id": "ducia7gqEBJz",
        "outputId": "72c4f139-3733-4656-ebef-5f981de6e26e"
      },
      "outputs": [
        {
          "data": {
            "application/vnd.google.colaboratory.intrinsic+json": {
              "type": "string"
            },
            "text/plain": [
              "'cpu'"
            ]
          },
          "execution_count": 17,
          "metadata": {},
          "output_type": "execute_result"
        }
      ],
      "source": [
        "device = \"cpu\"\n",
        "if torch.cuda.is_available():\n",
        "  device = \"cuda:0\"\n",
        "\n",
        "device"
      ]
    },
    {
      "cell_type": "code",
      "execution_count": 18,
      "metadata": {
        "id": "5dECiZZVEfC5"
      },
      "outputs": [],
      "source": [
        "# Copio la red neuronal al dispositivo donde entrene la red neuronal\n",
        "nnet = nnet.to(device)"
      ]
    },
    {
      "cell_type": "code",
      "execution_count": 19,
      "metadata": {
        "colab": {
          "base_uri": "https://localhost:8080/"
        },
        "id": "L9UeuiOmErqk",
        "outputId": "d4549f41-0f68-496a-c026-20f5a8986324"
      },
      "outputs": [
        {
          "name": "stdout",
          "output_type": "stream",
          "text": [
            " Epoch 0 | Train/Valid loss: 0.429 / 0.435 | Train/Valid accuracy: 0.808 / 0.780\n",
            " Epoch 1 | Train/Valid loss: 0.395 / 0.423 | Train/Valid accuracy: 0.825 / 0.792\n",
            " Epoch 2 | Train/Valid loss: 0.390 / 0.428 | Train/Valid accuracy: 0.824 / 0.798\n",
            " Epoch 3 | Train/Valid loss: 0.385 / 0.403 | Train/Valid accuracy: 0.825 / 0.805\n",
            " Epoch 4 | Train/Valid loss: 0.380 / 0.399 | Train/Valid accuracy: 0.825 / 0.798\n",
            " Epoch 5 | Train/Valid loss: 0.378 / 0.403 | Train/Valid accuracy: 0.827 / 0.805\n",
            " Epoch 6 | Train/Valid loss: 0.375 / 0.427 | Train/Valid accuracy: 0.825 / 0.805\n",
            " Epoch 7 | Train/Valid loss: 0.377 / 0.394 | Train/Valid accuracy: 0.826 / 0.802\n",
            " Epoch 8 | Train/Valid loss: 0.366 / 0.405 | Train/Valid accuracy: 0.823 / 0.795\n",
            " Epoch 9 | Train/Valid loss: 0.366 / 0.402 | Train/Valid accuracy: 0.827 / 0.800\n",
            " Epoch 10 | Train/Valid loss: 0.366 / 0.399 | Train/Valid accuracy: 0.833 / 0.804\n",
            " Epoch 11 | Train/Valid loss: 0.365 / 0.409 | Train/Valid accuracy: 0.831 / 0.808\n",
            " Epoch 12 | Train/Valid loss: 0.359 / 0.400 | Train/Valid accuracy: 0.834 / 0.802\n",
            " Epoch 13 | Train/Valid loss: 0.357 / 0.388 | Train/Valid accuracy: 0.835 / 0.809\n",
            " Epoch 14 | Train/Valid loss: 0.361 / 0.394 | Train/Valid accuracy: 0.834 / 0.793\n",
            " Epoch 15 | Train/Valid loss: 0.357 / 0.400 | Train/Valid accuracy: 0.835 / 0.814\n",
            " Epoch 16 | Train/Valid loss: 0.359 / 0.405 | Train/Valid accuracy: 0.834 / 0.805\n",
            " Epoch 17 | Train/Valid loss: 0.358 / 0.402 | Train/Valid accuracy: 0.833 / 0.802\n",
            " Epoch 18 | Train/Valid loss: 0.351 / 0.389 | Train/Valid accuracy: 0.841 / 0.804\n",
            " Epoch 19 | Train/Valid loss: 0.351 / 0.396 | Train/Valid accuracy: 0.838 / 0.806\n",
            " Epoch 20 | Train/Valid loss: 0.352 / 0.390 | Train/Valid accuracy: 0.837 / 0.809\n",
            " Epoch 21 | Train/Valid loss: 0.354 / 0.383 | Train/Valid accuracy: 0.836 / 0.808\n",
            " Epoch 22 | Train/Valid loss: 0.347 / 0.390 | Train/Valid accuracy: 0.836 / 0.819\n",
            " Epoch 23 | Train/Valid loss: 0.352 / 0.411 | Train/Valid accuracy: 0.838 / 0.807\n",
            " Epoch 24 | Train/Valid loss: 0.346 / 0.390 | Train/Valid accuracy: 0.839 / 0.807\n",
            " Epoch 25 | Train/Valid loss: 0.353 / 0.410 | Train/Valid accuracy: 0.837 / 0.800\n",
            " Epoch 26 | Train/Valid loss: 0.357 / 0.400 | Train/Valid accuracy: 0.838 / 0.813\n",
            " Epoch 27 | Train/Valid loss: 0.349 / 0.395 | Train/Valid accuracy: 0.840 / 0.807\n",
            " Epoch 28 | Train/Valid loss: 0.347 / 0.399 | Train/Valid accuracy: 0.845 / 0.806\n",
            " Epoch 29 | Train/Valid loss: 0.345 / 0.386 | Train/Valid accuracy: 0.840 / 0.810\n",
            " Epoch 30 | Train/Valid loss: 0.345 / 0.384 | Train/Valid accuracy: 0.841 / 0.816\n",
            " Epoch 31 | Train/Valid loss: 0.342 / 0.385 | Train/Valid accuracy: 0.842 / 0.813\n",
            " Epoch 32 | Train/Valid loss: 0.342 / 0.396 | Train/Valid accuracy: 0.841 / 0.810\n",
            " Epoch 33 | Train/Valid loss: 0.342 / 0.384 | Train/Valid accuracy: 0.842 / 0.818\n",
            " Epoch 34 | Train/Valid loss: 0.347 / 0.386 | Train/Valid accuracy: 0.837 / 0.826\n",
            " Epoch 35 | Train/Valid loss: 0.340 / 0.390 | Train/Valid accuracy: 0.841 / 0.811\n",
            " Epoch 36 | Train/Valid loss: 0.340 / 0.387 | Train/Valid accuracy: 0.843 / 0.812\n",
            " Epoch 37 | Train/Valid loss: 0.344 / 0.383 | Train/Valid accuracy: 0.838 / 0.829\n",
            " Epoch 38 | Train/Valid loss: 0.338 / 0.382 | Train/Valid accuracy: 0.843 / 0.818\n",
            " Epoch 39 | Train/Valid loss: 0.335 / 0.378 | Train/Valid accuracy: 0.841 / 0.816\n",
            " Epoch 40 | Train/Valid loss: 0.340 / 0.386 | Train/Valid accuracy: 0.839 / 0.802\n",
            " Epoch 41 | Train/Valid loss: 0.340 / 0.385 | Train/Valid accuracy: 0.841 / 0.819\n",
            " Epoch 42 | Train/Valid loss: 0.335 / 0.406 | Train/Valid accuracy: 0.841 / 0.823\n",
            " Epoch 43 | Train/Valid loss: 0.339 / 0.378 | Train/Valid accuracy: 0.841 / 0.825\n",
            " Epoch 44 | Train/Valid loss: 0.339 / 0.382 | Train/Valid accuracy: 0.841 / 0.829\n",
            " Epoch 45 | Train/Valid loss: 0.335 / 0.379 | Train/Valid accuracy: 0.848 / 0.824\n",
            " Epoch 46 | Train/Valid loss: 0.333 / 0.386 | Train/Valid accuracy: 0.843 / 0.811\n",
            " Epoch 47 | Train/Valid loss: 0.336 / 0.389 | Train/Valid accuracy: 0.845 / 0.835\n",
            " Epoch 48 | Train/Valid loss: 0.333 / 0.402 | Train/Valid accuracy: 0.843 / 0.815\n",
            " Epoch 49 | Train/Valid loss: 0.335 / 0.387 | Train/Valid accuracy: 0.844 / 0.812\n",
            " Epoch 50 | Train/Valid loss: 0.333 / 0.382 | Train/Valid accuracy: 0.849 / 0.825\n",
            " Epoch 51 | Train/Valid loss: 0.330 / 0.399 | Train/Valid accuracy: 0.847 / 0.816\n",
            " Epoch 52 | Train/Valid loss: 0.328 / 0.377 | Train/Valid accuracy: 0.844 / 0.827\n",
            " Epoch 53 | Train/Valid loss: 0.335 / 0.381 | Train/Valid accuracy: 0.845 / 0.819\n",
            " Epoch 54 | Train/Valid loss: 0.338 / 0.382 | Train/Valid accuracy: 0.843 / 0.816\n",
            " Epoch 55 | Train/Valid loss: 0.334 / 0.378 | Train/Valid accuracy: 0.848 / 0.821\n",
            " Epoch 56 | Train/Valid loss: 0.332 / 0.394 | Train/Valid accuracy: 0.842 / 0.825\n",
            " Epoch 57 | Train/Valid loss: 0.328 / 0.386 | Train/Valid accuracy: 0.845 / 0.816\n",
            " Epoch 58 | Train/Valid loss: 0.330 / 0.387 | Train/Valid accuracy: 0.844 / 0.826\n",
            " Epoch 59 | Train/Valid loss: 0.332 / 0.375 | Train/Valid accuracy: 0.845 / 0.822\n",
            " Epoch 60 | Train/Valid loss: 0.325 / 0.374 | Train/Valid accuracy: 0.849 / 0.821\n",
            " Epoch 61 | Train/Valid loss: 0.327 / 0.374 | Train/Valid accuracy: 0.851 / 0.823\n",
            " Epoch 62 | Train/Valid loss: 0.325 / 0.384 | Train/Valid accuracy: 0.846 / 0.824\n",
            " Epoch 63 | Train/Valid loss: 0.333 / 0.385 | Train/Valid accuracy: 0.842 / 0.822\n",
            " Epoch 64 | Train/Valid loss: 0.326 / 0.373 | Train/Valid accuracy: 0.845 / 0.824\n",
            " Epoch 65 | Train/Valid loss: 0.327 / 0.383 | Train/Valid accuracy: 0.845 / 0.815\n",
            " Epoch 66 | Train/Valid loss: 0.328 / 0.379 | Train/Valid accuracy: 0.843 / 0.827\n",
            " Epoch 67 | Train/Valid loss: 0.324 / 0.387 | Train/Valid accuracy: 0.850 / 0.824\n",
            " Epoch 68 | Train/Valid loss: 0.323 / 0.381 | Train/Valid accuracy: 0.854 / 0.819\n",
            " Epoch 69 | Train/Valid loss: 0.320 / 0.389 | Train/Valid accuracy: 0.853 / 0.816\n",
            " Epoch 70 | Train/Valid loss: 0.322 / 0.392 | Train/Valid accuracy: 0.850 / 0.824\n",
            " Epoch 71 | Train/Valid loss: 0.318 / 0.397 | Train/Valid accuracy: 0.852 / 0.822\n",
            " Epoch 72 | Train/Valid loss: 0.323 / 0.389 | Train/Valid accuracy: 0.848 / 0.823\n",
            " Epoch 73 | Train/Valid loss: 0.321 / 0.388 | Train/Valid accuracy: 0.854 / 0.822\n",
            " Epoch 74 | Train/Valid loss: 0.317 / 0.378 | Train/Valid accuracy: 0.852 / 0.823\n",
            " Epoch 75 | Train/Valid loss: 0.321 / 0.408 | Train/Valid accuracy: 0.849 / 0.797\n",
            " Epoch 76 | Train/Valid loss: 0.325 / 0.398 | Train/Valid accuracy: 0.847 / 0.835\n",
            " Epoch 77 | Train/Valid loss: 0.320 / 0.389 | Train/Valid accuracy: 0.851 / 0.818\n",
            " Epoch 78 | Train/Valid loss: 0.318 / 0.399 | Train/Valid accuracy: 0.855 / 0.814\n",
            " Epoch 79 | Train/Valid loss: 0.323 / 0.396 | Train/Valid accuracy: 0.849 / 0.805\n",
            " Epoch 80 | Train/Valid loss: 0.319 / 0.387 | Train/Valid accuracy: 0.850 / 0.812\n",
            " Epoch 81 | Train/Valid loss: 0.320 / 0.377 | Train/Valid accuracy: 0.847 / 0.827\n",
            " Epoch 82 | Train/Valid loss: 0.317 / 0.441 | Train/Valid accuracy: 0.850 / 0.824\n",
            " Epoch 83 | Train/Valid loss: 0.323 / 0.388 | Train/Valid accuracy: 0.850 / 0.819\n",
            " Epoch 84 | Train/Valid loss: 0.321 / 0.394 | Train/Valid accuracy: 0.850 / 0.819\n",
            " Epoch 85 | Train/Valid loss: 0.318 / 0.380 | Train/Valid accuracy: 0.851 / 0.820\n",
            " Epoch 86 | Train/Valid loss: 0.312 / 0.383 | Train/Valid accuracy: 0.851 / 0.831\n",
            " Epoch 87 | Train/Valid loss: 0.314 / 0.383 | Train/Valid accuracy: 0.852 / 0.829\n",
            " Epoch 88 | Train/Valid loss: 0.315 / 0.398 | Train/Valid accuracy: 0.852 / 0.821\n",
            " Epoch 89 | Train/Valid loss: 0.316 / 0.382 | Train/Valid accuracy: 0.853 / 0.814\n",
            " Epoch 90 | Train/Valid loss: 0.316 / 0.392 | Train/Valid accuracy: 0.852 / 0.815\n",
            " Epoch 91 | Train/Valid loss: 0.313 / 0.401 | Train/Valid accuracy: 0.852 / 0.825\n",
            " Epoch 92 | Train/Valid loss: 0.315 / 0.431 | Train/Valid accuracy: 0.852 / 0.816\n",
            " Epoch 93 | Train/Valid loss: 0.310 / 0.406 | Train/Valid accuracy: 0.858 / 0.820\n",
            " Epoch 94 | Train/Valid loss: 0.311 / 0.375 | Train/Valid accuracy: 0.853 / 0.824\n",
            " Epoch 95 | Train/Valid loss: 0.312 / 0.386 | Train/Valid accuracy: 0.851 / 0.823\n",
            " Epoch 96 | Train/Valid loss: 0.306 / 0.387 | Train/Valid accuracy: 0.854 / 0.823\n",
            " Epoch 97 | Train/Valid loss: 0.307 / 0.377 | Train/Valid accuracy: 0.856 / 0.816\n",
            " Epoch 98 | Train/Valid loss: 0.309 / 0.382 | Train/Valid accuracy: 0.854 / 0.823\n",
            " Epoch 99 | Train/Valid loss: 0.302 / 0.381 | Train/Valid accuracy: 0.858 / 0.827\n"
          ]
        }
      ],
      "source": [
        "# Algoritmo Mini-batch\n",
        "\n",
        "# cantidad de epochs\n",
        "epochs = 100\n",
        "\n",
        "train_loss_by_epoch=[]\n",
        "valid_loss_by_epoch=[]\n",
        "\n",
        "# Doble loop algoritmo Mini-Batch\n",
        "for epoch in range(epochs):\n",
        "  \n",
        "  ############################################\n",
        "  ## Entrenamiento\n",
        "  ############################################\n",
        "  nnet.train(True)\n",
        "\n",
        "  epoch_loss = 0\n",
        "  epoch_y_hat = []\n",
        "  epoch_y = []\n",
        "  \n",
        "  for i,data in enumerate(train_dataloader):\n",
        "    # Obtengo los datos del batch de entrenamiento\n",
        "    x_batch, y_batch = data\n",
        "    # Copio el batch al dispositivo donde entreno la red neuronal\n",
        "    x_batch = x_batch.to(device).float()\n",
        "    y_batch = y_batch.to(device).float().reshape(-1, 1)\n",
        "\n",
        "    # Paso forward\n",
        "    # Limpio optimizer para empezar un nuevo cálculo de gradiente\n",
        "    optimizer.zero_grad()\n",
        "    nnet_output = nnet(x_batch)\n",
        "    y_batch_hat = torch.sigmoid(nnet_output)\n",
        "    \n",
        "    # Calculo el loss\n",
        "    loss = loss_function(nnet_output, y_batch)\n",
        "\n",
        "    # Backpropagation\n",
        "    loss.backward()\n",
        "\n",
        "    # Actualizar los parámetros\n",
        "    optimizer.step()\n",
        "\n",
        "    # Almaceno los valores reales y mis predicciones para cálcular las métricas\n",
        "    epoch_y += list(y_batch.detach().cpu().numpy())\n",
        "    epoch_y_hat += list(y_batch_hat.detach().cpu().numpy())\n",
        "    # Acumulo la loss del batch\n",
        "    epoch_loss = epoch_loss + loss.item()\n",
        "\n",
        "  # Calculo la media de la loss\n",
        "  epoch_loss = epoch_loss / n_train\n",
        "  # Almaceno la loss de la epoch para graficar\n",
        "  train_loss_by_epoch.append(epoch_loss)\n",
        "  # Cálculo la métrica de la epoch\n",
        "  accuracy = metrics.accuracy_score(epoch_y, [j>=0.5 for j in epoch_y_hat])\n",
        "\n",
        "  ############################################\n",
        "  ## Validación\n",
        "  ############################################\n",
        "  # Desactivo el cálculo de gradiente para validación\n",
        "  nnet.train(False)\n",
        "\n",
        "  valid_epoch_loss = 0\n",
        "  valid_epoch_y_hat = []\n",
        "  valid_epoch_y = []\n",
        "\n",
        "  for i,data in enumerate(valid_dataloader):\n",
        "    # Obtengo los datos del batch de validación\n",
        "    x_batch, y_batch = data\n",
        "    # Copio el batch al dispositivo donde entreno la red neuronal\n",
        "    x_batch = x_batch.to(device).float()\n",
        "    y_batch = y_batch.to(device).float().reshape(-1, 1)\n",
        "\n",
        "    # Paso forward\n",
        "    nnet_output = nnet(x_batch)\n",
        "    y_batch_hat = torch.sigmoid(nnet_output)\n",
        "    \n",
        "    # Calculo el loss\n",
        "    loss = loss_function(nnet_output, y_batch)\n",
        "\n",
        "    # En validación no hago backpropagation!!\n",
        "\n",
        "    # Almaceno los valores reales y mis predicciones para cálcular las métricas\n",
        "    valid_epoch_y += list(y_batch.detach().cpu().numpy())\n",
        "    valid_epoch_y_hat += list(y_batch_hat.detach().cpu().numpy())\n",
        "    # Acumulo la loss del batch\n",
        "    valid_epoch_loss = valid_epoch_loss + loss.item()\n",
        "\n",
        "  # Calculo la media de la loss\n",
        "  valid_epoch_loss = valid_epoch_loss / n_valid\n",
        "  # Almaceno la loss de la epoch para graficar\n",
        "  valid_loss_by_epoch.append(valid_epoch_loss)\n",
        "  # Cálculo la métrica de la epoch\n",
        "  valid_accuracy = metrics.accuracy_score(valid_epoch_y, [j>=0.5 for j in valid_epoch_y_hat])\n",
        "\n",
        "  ############################################\n",
        "  ## Impresión de resultados por epoch\n",
        "  ############################################\n",
        "  print(f\" Epoch {epoch} | \" \\\n",
        "        f\"Train/Valid loss: {epoch_loss:.3f} / {valid_epoch_loss:.3f} | \" \\\n",
        "        f\"Train/Valid accuracy: {accuracy:.3f} / {valid_accuracy:.3f}\")"
      ]
    },
    {
      "cell_type": "code",
      "execution_count": 20,
      "metadata": {
        "colab": {
          "base_uri": "https://localhost:8080/",
          "height": 312
        },
        "id": "AOmgUAKKGH05",
        "outputId": "733501b8-11eb-46f0-f62f-7169c5d6c7e8"
      },
      "outputs": [
        {
          "data": {
            "text/plain": [
              "Text(0, 0.5, 'BCE')"
            ]
          },
          "execution_count": 20,
          "metadata": {},
          "output_type": "execute_result"
        },
        {
          "data": {
            "image/png": "[encoded data removed]",
            "text/plain": [
              "<Figure size 432x288 with 1 Axes>"
            ]
          },
          "metadata": {
            "needs_background": "light"
          },
          "output_type": "display_data"
        }
      ],
      "source": [
        "# Grafica loss por epoch\n",
        "fig, ax1= plt.subplots(1,1)\n",
        "ax1.plot(train_loss_by_epoch, label=\"Train loss\")\n",
        "ax1.plot(valid_loss_by_epoch, label=\"Validation loss\")\n",
        "ax1.legend()\n",
        "ax1.set_title(\"Loss by epoch\")\n",
        "ax1.set_xlabel(\"epoch\")\n",
        "ax1.set_ylabel(\"BCE\")"
      ]
    },
    {
      "cell_type": "markdown",
      "metadata": {
        "id": "30ECqOCGB8OE"
      },
      "source": [
        "### Modelo con Embeddings"
      ]
    },
    {
      "cell_type": "code",
      "execution_count": 21,
      "metadata": {
        "colab": {
          "base_uri": "https://localhost:8080/"
        },
        "id": "qIxq7cfEMY2F",
        "outputId": "c83f24d3-880b-4a29-c4cd-2ff16f3f8f27"
      },
      "outputs": [
        {
          "data": {
            "text/plain": [
              "500"
            ]
          },
          "execution_count": 21,
          "metadata": {},
          "output_type": "execute_result"
        }
      ],
      "source": [
        "# No puedo utilizar OHE con vendor_id\n",
        "len(vendor_id.unique())"
      ]
    },
    {
      "cell_type": "code",
      "execution_count": 22,
      "metadata": {
        "colab": {
          "base_uri": "https://localhost:8080/"
        },
        "id": "oTwSWt2SCAvO",
        "outputId": "4254f88f-448c-405f-aa68-80ddbf484b41"
      },
      "outputs": [
        {
          "data": {
            "text/plain": [
              "array([369, 361, 354, 325, 375, 380, 312, 301, 355, 290, 210, 260, 421,\n",
              "       248, 416, 383, 277, 586, 413, 559, 234, 317, 318, 353, 305, 470,\n",
              "       381, 347, 396, 243, 232, 200, 358, 256, 374, 384, 357, 393, 462,\n",
              "       143, 252, 329, 257, 389, 469, 459, 335, 334, 359, 306, 323, 339,\n",
              "       209, 379, 373, 203, 464, 276, 233, 288, 230, 331, 536, 254, 401,\n",
              "       478, 247, 348, 321, 206, 316, 268, 365, 322, 261, 367, 215, 438,\n",
              "       496, 482, 399, 417, 270, 214, 241, 263, 274, 326, 286, 275, 279,\n",
              "       132, 385, 307, 218, 223, 352, 308, 471, 461, 269, 449, 265, 228,\n",
              "       445, 299, 345, 320, 313, 190, 466, 300, 409, 372, 398, 227, 440,\n",
              "       573, 578, 486, 244, 212, 294, 497, 262, 392, 150, 196, 239, 194,\n",
              "       250, 351, 287, 245, 272, 506, 180, 390, 253, 282, 222, 235, 264,\n",
              "       266, 292, 157, 137, 415, 324, 240, 258, 350, 284, 340, 207, 182,\n",
              "       314, 338, 433, 201, 432, 311, 437, 441, 439, 105,  72,  80, 360,\n",
              "       403, 114, 273, 395, 309, 291, 249, 140, 518, 562, 152, 226, 315,\n",
              "       457, 434, 447, 302, 455,   2, 337, 344, 493, 304, 410, 531, 224,\n",
              "       378, 343, 456, 205, 208, 229, 570, 356, 293, 473, 425, 371, 362,\n",
              "       465, 450, 479, 332, 342, 382, 238, 430, 213, 458, 487, 404, 341,\n",
              "       454, 204, 394, 271, 246, 297, 333, 446, 242, 283, 414, 185, 548,\n",
              "       540, 566, 336,  40, 211, 485, 220, 412, 391, 397, 387, 368, 303,\n",
              "       225, 111, 158, 370, 428, 330, 376, 221, 319, 192, 327, 386, 285,\n",
              "       186, 400, 289, 237, 431, 474, 202, 480, 554, 435, 310, 296, 364,\n",
              "       280, 255, 576, 551, 146, 231, 219, 172, 216, 130, 499, 494, 164,\n",
              "       131, 298, 484, 489, 346, 154, 436, 149, 267, 408, 166, 281, 420,\n",
              "       590,  18, 251, 377, 217, 491, 429, 422, 626, 109, 564, 490, 571,\n",
              "       236, 259, 693, 349, 328, 666, 411, 463, 163, 592, 557, 543, 563,\n",
              "       483, 528, 452, 492, 511, 558,  22, 426, 622, 451, 589, 539, 427,\n",
              "       460, 103, 278, 363, 448, 406, 388, 495, 366, 126, 124, 295, 567,\n",
              "       144, 119,   3, 107, 122, 128, 453, 527, 443, 110, 515, 159, 468,\n",
              "       529, 524,  91, 488, 577, 419, 481, 148, 588, 423, 593, 541, 522,\n",
              "       565, 155, 596, 147, 424, 477, 574, 173, 188, 525, 176,  37, 530,\n",
              "       547, 467, 141, 125, 603, 402, 575, 599, 153, 187, 582,  71, 115,\n",
              "       169, 507, 472, 442, 104, 405, 544, 444, 129, 475, 177,  32, 161,\n",
              "       502, 523, 569, 533,  87, 195, 498, 191, 174, 184, 501, 156, 476,\n",
              "       168,  62, 561, 535, 134, 100, 170, 183, 181, 162, 579, 595, 553,\n",
              "       534, 407, 556, 133, 538, 542, 555, 519, 418, 560, 526, 521,  78,\n",
              "       591, 167, 508,  84, 199, 513, 549,  43, 503,   4, 552, 532, 500,\n",
              "       584, 597, 118, 101,  50, 171, 193, 179, 581, 120, 160, 142, 509,\n",
              "       189,  23, 537, 151, 108, 116, 198,  97, 504,  56, 139,  94,  65,\n",
              "       145,  74, 106,  57,   1,  25])"
            ]
          },
          "execution_count": 22,
          "metadata": {},
          "output_type": "execute_result"
        }
      ],
      "source": [
        "# Los vendor id no son consecutivos\n",
        "vendor_id.unique()"
      ]
    },
    {
      "cell_type": "code",
      "execution_count": 23,
      "metadata": {
        "id": "CJnoy6QkCQht"
      },
      "outputs": [],
      "source": [
        "# Transformo vendor id a indices (idx) consecutivos para utilizar embeddings\n",
        "vendor_id_to_idx = {value:i for i,value in enumerate(vendor_id.unique())}"
      ]
    },
    {
      "cell_type": "code",
      "execution_count": 24,
      "metadata": {
        "id": "iNo6WnQZCpWw"
      },
      "outputs": [],
      "source": [
        "# Vector de vendor_idx en el dataset\n",
        "vendor_idx = np.array([vendor_id_to_idx[value] for value in vendor_id])"
      ]
    },
    {
      "cell_type": "code",
      "execution_count": 25,
      "metadata": {
        "id": "Hq_fqy5nDB4K"
      },
      "outputs": [],
      "source": [
        "# Divido el vector vendor_idx en entrenamiento y validación\n",
        "vendor_idx_train = vendor_idx[train_idx]\n",
        "vendor_idx_valid = vendor_idx[valid_idx]"
      ]
    },
    {
      "cell_type": "code",
      "execution_count": 26,
      "metadata": {
        "id": "RgG44HqhDcoG"
      },
      "outputs": [],
      "source": [
        "# Clase Dataset de Pytorch con embeddings\n",
        "class MyDatasetWithEmbddings(Dataset):\n",
        "\n",
        "  def __init__(self, x, vendor_idx, y):\n",
        "    self.x = x\n",
        "    self.vendor_idx = vendor_idx\n",
        "    self.y = y\n",
        "\n",
        "  def __len__(self):\n",
        "    return self.x.shape[0]\n",
        "\n",
        "  def __getitem__(self, idx):\n",
        "    return self.x[idx], self.vendor_idx[idx], self.y[idx]"
      ]
    },
    {
      "cell_type": "code",
      "execution_count": 27,
      "metadata": {
        "id": "YFtqEvbLDuL6"
      },
      "outputs": [],
      "source": [
        "train_ds_embeddings = MyDatasetWithEmbddings(train_x, vendor_idx_train, train_y)\n",
        "valid_ds_embeddings = MyDatasetWithEmbddings(valid_x, vendor_idx_valid, valid_y)"
      ]
    },
    {
      "cell_type": "code",
      "execution_count": 28,
      "metadata": {
        "id": "TGwvjH6jD_Xf"
      },
      "outputs": [],
      "source": [
        "train_dataloader_emb = DataLoader(train_ds_embeddings, batch_size =64, shuffle= True)\n",
        "valid_dataloader_emb = DataLoader(valid_ds_embeddings, batch_size=64)"
      ]
    },
    {
      "cell_type": "code",
      "execution_count": 29,
      "metadata": {
        "id": "mQGjdjAvEIwm"
      },
      "outputs": [],
      "source": [
        "# Arquitectura con embeddings\n",
        "class NNetWithEmbeddings(torch.nn.Module):\n",
        "\n",
        "  def __init__(self):\n",
        "    super().__init__()\n",
        "    self.embeddings = torch.nn.Embedding(num_embeddings=500, embedding_dim=8)\n",
        "    self.linear_1 = torch.nn.Linear(in_features=13+8, out_features=200, bias=True)\n",
        "    self.relu_1 = torch.nn.ReLU()\n",
        "    self.linear_2 = torch.nn.Linear(in_features = 200, out_features=100, bias=True)\n",
        "    self.relu_2 = torch.nn.ReLU()\n",
        "    self.output = torch.nn.Linear(in_features = 100, out_features= 1, bias=True)\n",
        "\n",
        "  def forward(self, x, vendor_idx):\n",
        "    embeddings_outputs = self.embeddings(vendor_idx)\n",
        "    x = torch.cat([x, embeddings_outputs], dim=1)\n",
        "    x = self.linear_1(x)\n",
        "    x = self.relu_1(x)\n",
        "    x = self.linear_2(x)\n",
        "    x = self.relu_2(x)\n",
        "    x = self.output(x)\n",
        "    return x"
      ]
    },
    {
      "cell_type": "code",
      "execution_count": 30,
      "metadata": {
        "id": "EfKHs5mLFsaD"
      },
      "outputs": [],
      "source": [
        "nnnetWithEmbeddings = NNetWithEmbeddings()\n",
        "nnnetWithEmbeddings = nnnetWithEmbeddings.to(device)"
      ]
    },
    {
      "cell_type": "code",
      "execution_count": 31,
      "metadata": {
        "id": "4HjOFe1kFhnI"
      },
      "outputs": [],
      "source": [
        "loss_function = torch.nn.BCEWithLogitsLoss(reduction='sum')\n",
        "# Optimizador con regularización L2 (parámetro weight_decay)\n",
        "optimizer = torch.optim.Adam(nnnetWithEmbeddings.parameters(), lr=0.001, weight_decay=0.01) "
      ]
    },
    {
      "cell_type": "code",
      "execution_count": 32,
      "metadata": {
        "colab": {
          "base_uri": "https://localhost:8080/"
        },
        "id": "L4VGDK2ZFnUS",
        "outputId": "d08ed33e-b49d-4a6c-a6ea-ec89a48e08a1"
      },
      "outputs": [
        {
          "name": "stdout",
          "output_type": "stream",
          "text": [
            " Epoch 0 | Train/Valid loss: 0.500 / 0.475 | Train/Valid accuracy: 0.796 / 0.793\n",
            " Epoch 1 | Train/Valid loss: 0.415 / 0.396 | Train/Valid accuracy: 0.812 / 0.825\n",
            " Epoch 2 | Train/Valid loss: 0.317 / 0.302 | Train/Valid accuracy: 0.872 / 0.893\n",
            " Epoch 3 | Train/Valid loss: 0.223 / 0.229 | Train/Valid accuracy: 0.922 / 0.919\n",
            " Epoch 4 | Train/Valid loss: 0.152 / 0.172 | Train/Valid accuracy: 0.951 / 0.946\n",
            " Epoch 5 | Train/Valid loss: 0.103 / 0.135 | Train/Valid accuracy: 0.969 / 0.956\n",
            " Epoch 6 | Train/Valid loss: 0.073 / 0.110 | Train/Valid accuracy: 0.981 / 0.966\n",
            " Epoch 7 | Train/Valid loss: 0.054 / 0.093 | Train/Valid accuracy: 0.988 / 0.974\n",
            " Epoch 8 | Train/Valid loss: 0.041 / 0.083 | Train/Valid accuracy: 0.992 / 0.978\n",
            " Epoch 9 | Train/Valid loss: 0.032 / 0.074 | Train/Valid accuracy: 0.994 / 0.981\n",
            " Epoch 10 | Train/Valid loss: 0.027 / 0.074 | Train/Valid accuracy: 0.995 / 0.981\n",
            " Epoch 11 | Train/Valid loss: 0.023 / 0.060 | Train/Valid accuracy: 0.995 / 0.985\n",
            " Epoch 12 | Train/Valid loss: 0.018 / 0.052 | Train/Valid accuracy: 0.997 / 0.984\n",
            " Epoch 13 | Train/Valid loss: 0.016 / 0.051 | Train/Valid accuracy: 0.997 / 0.986\n",
            " Epoch 14 | Train/Valid loss: 0.014 / 0.038 | Train/Valid accuracy: 0.998 / 0.986\n",
            " Epoch 15 | Train/Valid loss: 0.012 / 0.042 | Train/Valid accuracy: 0.997 / 0.987\n",
            " Epoch 16 | Train/Valid loss: 0.011 / 0.039 | Train/Valid accuracy: 0.998 / 0.988\n",
            " Epoch 17 | Train/Valid loss: 0.009 / 0.026 | Train/Valid accuracy: 0.999 / 0.989\n",
            " Epoch 18 | Train/Valid loss: 0.007 / 0.025 | Train/Valid accuracy: 0.999 / 0.990\n",
            " Epoch 19 | Train/Valid loss: 0.006 / 0.022 | Train/Valid accuracy: 0.999 / 0.994\n",
            " Epoch 20 | Train/Valid loss: 0.006 / 0.020 | Train/Valid accuracy: 0.999 / 0.994\n",
            " Epoch 21 | Train/Valid loss: 0.005 / 0.029 | Train/Valid accuracy: 0.999 / 0.989\n",
            " Epoch 22 | Train/Valid loss: 0.005 / 0.020 | Train/Valid accuracy: 0.999 / 0.994\n",
            " Epoch 23 | Train/Valid loss: 0.004 / 0.028 | Train/Valid accuracy: 1.000 / 0.988\n",
            " Epoch 24 | Train/Valid loss: 0.004 / 0.023 | Train/Valid accuracy: 0.999 / 0.990\n",
            " Epoch 25 | Train/Valid loss: 0.003 / 0.019 | Train/Valid accuracy: 1.000 / 0.993\n",
            " Epoch 26 | Train/Valid loss: 0.003 / 0.015 | Train/Valid accuracy: 1.000 / 0.997\n",
            " Epoch 27 | Train/Valid loss: 0.003 / 0.025 | Train/Valid accuracy: 1.000 / 0.989\n",
            " Epoch 28 | Train/Valid loss: 0.002 / 0.013 | Train/Valid accuracy: 1.000 / 0.997\n",
            " Epoch 29 | Train/Valid loss: 0.002 / 0.018 | Train/Valid accuracy: 1.000 / 0.993\n",
            " Epoch 30 | Train/Valid loss: 0.002 / 0.018 | Train/Valid accuracy: 1.000 / 0.993\n",
            " Epoch 31 | Train/Valid loss: 0.002 / 0.016 | Train/Valid accuracy: 1.000 / 0.994\n",
            " Epoch 32 | Train/Valid loss: 0.002 / 0.014 | Train/Valid accuracy: 1.000 / 0.994\n",
            " Epoch 33 | Train/Valid loss: 0.002 / 0.016 | Train/Valid accuracy: 1.000 / 0.995\n",
            " Epoch 34 | Train/Valid loss: 0.001 / 0.014 | Train/Valid accuracy: 1.000 / 0.994\n",
            " Epoch 35 | Train/Valid loss: 0.001 / 0.013 | Train/Valid accuracy: 1.000 / 0.994\n",
            " Epoch 36 | Train/Valid loss: 0.001 / 0.014 | Train/Valid accuracy: 1.000 / 0.994\n",
            " Epoch 37 | Train/Valid loss: 0.001 / 0.014 | Train/Valid accuracy: 1.000 / 0.994\n",
            " Epoch 38 | Train/Valid loss: 0.001 / 0.017 | Train/Valid accuracy: 1.000 / 0.995\n",
            " Epoch 39 | Train/Valid loss: 0.001 / 0.013 | Train/Valid accuracy: 1.000 / 0.994\n",
            " Epoch 40 | Train/Valid loss: 0.001 / 0.014 | Train/Valid accuracy: 1.000 / 0.994\n",
            " Epoch 41 | Train/Valid loss: 0.001 / 0.014 | Train/Valid accuracy: 1.000 / 0.994\n",
            " Epoch 42 | Train/Valid loss: 0.001 / 0.013 | Train/Valid accuracy: 1.000 / 0.994\n",
            " Epoch 43 | Train/Valid loss: 0.001 / 0.015 | Train/Valid accuracy: 1.000 / 0.994\n",
            " Epoch 44 | Train/Valid loss: 0.001 / 0.015 | Train/Valid accuracy: 1.000 / 0.994\n",
            " Epoch 45 | Train/Valid loss: 0.001 / 0.015 | Train/Valid accuracy: 1.000 / 0.994\n",
            " Epoch 46 | Train/Valid loss: 0.001 / 0.017 | Train/Valid accuracy: 1.000 / 0.995\n",
            " Epoch 47 | Train/Valid loss: 0.001 / 0.015 | Train/Valid accuracy: 1.000 / 0.995\n",
            " Epoch 48 | Train/Valid loss: 0.001 / 0.015 | Train/Valid accuracy: 1.000 / 0.994\n",
            " Epoch 49 | Train/Valid loss: 0.001 / 0.015 | Train/Valid accuracy: 1.000 / 0.995\n",
            " Epoch 50 | Train/Valid loss: 0.001 / 0.016 | Train/Valid accuracy: 1.000 / 0.995\n",
            " Epoch 51 | Train/Valid loss: 0.001 / 0.017 | Train/Valid accuracy: 1.000 / 0.996\n",
            " Epoch 52 | Train/Valid loss: 0.001 / 0.018 | Train/Valid accuracy: 1.000 / 0.995\n",
            " Epoch 53 | Train/Valid loss: 0.001 / 0.015 | Train/Valid accuracy: 1.000 / 0.996\n",
            " Epoch 54 | Train/Valid loss: 0.001 / 0.018 | Train/Valid accuracy: 1.000 / 0.996\n",
            " Epoch 55 | Train/Valid loss: 0.001 / 0.018 | Train/Valid accuracy: 1.000 / 0.996\n",
            " Epoch 56 | Train/Valid loss: 0.001 / 0.016 | Train/Valid accuracy: 1.000 / 0.996\n",
            " Epoch 57 | Train/Valid loss: 0.001 / 0.016 | Train/Valid accuracy: 1.000 / 0.996\n",
            " Epoch 58 | Train/Valid loss: 0.001 / 0.016 | Train/Valid accuracy: 1.000 / 0.996\n",
            " Epoch 59 | Train/Valid loss: 0.001 / 0.015 | Train/Valid accuracy: 1.000 / 0.996\n",
            " Epoch 60 | Train/Valid loss: 0.001 / 0.017 | Train/Valid accuracy: 1.000 / 0.996\n",
            " Epoch 61 | Train/Valid loss: 0.001 / 0.014 | Train/Valid accuracy: 1.000 / 0.996\n",
            " Epoch 62 | Train/Valid loss: 0.001 / 0.014 | Train/Valid accuracy: 1.000 / 0.996\n",
            " Epoch 63 | Train/Valid loss: 0.001 / 0.016 | Train/Valid accuracy: 1.000 / 0.996\n",
            " Epoch 64 | Train/Valid loss: 0.001 / 0.015 | Train/Valid accuracy: 1.000 / 0.996\n",
            " Epoch 65 | Train/Valid loss: 0.001 / 0.012 | Train/Valid accuracy: 1.000 / 0.996\n",
            " Epoch 66 | Train/Valid loss: 0.001 / 0.011 | Train/Valid accuracy: 1.000 / 0.996\n",
            " Epoch 67 | Train/Valid loss: 0.001 / 0.010 | Train/Valid accuracy: 1.000 / 0.996\n",
            " Epoch 68 | Train/Valid loss: 0.000 / 0.012 | Train/Valid accuracy: 1.000 / 0.996\n",
            " Epoch 69 | Train/Valid loss: 0.000 / 0.012 | Train/Valid accuracy: 1.000 / 0.996\n",
            " Epoch 70 | Train/Valid loss: 0.001 / 0.008 | Train/Valid accuracy: 1.000 / 0.996\n",
            " Epoch 71 | Train/Valid loss: 0.000 / 0.009 | Train/Valid accuracy: 1.000 / 0.996\n",
            " Epoch 72 | Train/Valid loss: 0.000 / 0.009 | Train/Valid accuracy: 1.000 / 0.996\n",
            " Epoch 73 | Train/Valid loss: 0.000 / 0.008 | Train/Valid accuracy: 1.000 / 0.996\n",
            " Epoch 74 | Train/Valid loss: 0.000 / 0.007 | Train/Valid accuracy: 1.000 / 0.996\n",
            " Epoch 75 | Train/Valid loss: 0.000 / 0.008 | Train/Valid accuracy: 1.000 / 0.996\n",
            " Epoch 76 | Train/Valid loss: 0.000 / 0.008 | Train/Valid accuracy: 1.000 / 0.996\n",
            " Epoch 77 | Train/Valid loss: 0.000 / 0.007 | Train/Valid accuracy: 1.000 / 0.996\n",
            " Epoch 78 | Train/Valid loss: 0.000 / 0.006 | Train/Valid accuracy: 1.000 / 0.999\n",
            " Epoch 79 | Train/Valid loss: 0.000 / 0.008 | Train/Valid accuracy: 1.000 / 0.996\n",
            " Epoch 80 | Train/Valid loss: 0.000 / 0.006 | Train/Valid accuracy: 1.000 / 0.996\n",
            " Epoch 81 | Train/Valid loss: 0.000 / 0.006 | Train/Valid accuracy: 1.000 / 0.996\n",
            " Epoch 82 | Train/Valid loss: 0.000 / 0.007 | Train/Valid accuracy: 1.000 / 0.996\n",
            " Epoch 83 | Train/Valid loss: 0.000 / 0.007 | Train/Valid accuracy: 1.000 / 0.996\n",
            " Epoch 84 | Train/Valid loss: 0.000 / 0.006 | Train/Valid accuracy: 1.000 / 0.996\n",
            " Epoch 85 | Train/Valid loss: 0.000 / 0.006 | Train/Valid accuracy: 1.000 / 0.996\n",
            " Epoch 86 | Train/Valid loss: 0.000 / 0.007 | Train/Valid accuracy: 1.000 / 0.996\n",
            " Epoch 87 | Train/Valid loss: 0.000 / 0.006 | Train/Valid accuracy: 1.000 / 0.999\n",
            " Epoch 88 | Train/Valid loss: 0.000 / 0.006 | Train/Valid accuracy: 1.000 / 0.996\n",
            " Epoch 89 | Train/Valid loss: 0.000 / 0.007 | Train/Valid accuracy: 1.000 / 0.996\n",
            " Epoch 90 | Train/Valid loss: 0.000 / 0.006 | Train/Valid accuracy: 1.000 / 0.996\n",
            " Epoch 91 | Train/Valid loss: 0.000 / 0.007 | Train/Valid accuracy: 1.000 / 0.996\n",
            " Epoch 92 | Train/Valid loss: 0.000 / 0.007 | Train/Valid accuracy: 1.000 / 0.996\n",
            " Epoch 93 | Train/Valid loss: 0.000 / 0.006 | Train/Valid accuracy: 1.000 / 0.996\n",
            " Epoch 94 | Train/Valid loss: 0.000 / 0.007 | Train/Valid accuracy: 1.000 / 0.996\n",
            " Epoch 95 | Train/Valid loss: 0.000 / 0.006 | Train/Valid accuracy: 1.000 / 0.996\n",
            " Epoch 96 | Train/Valid loss: 0.000 / 0.007 | Train/Valid accuracy: 1.000 / 0.996\n",
            " Epoch 97 | Train/Valid loss: 0.000 / 0.007 | Train/Valid accuracy: 1.000 / 0.996\n",
            " Epoch 98 | Train/Valid loss: 0.000 / 0.006 | Train/Valid accuracy: 1.000 / 0.996\n",
            " Epoch 99 | Train/Valid loss: 0.000 / 0.007 | Train/Valid accuracy: 1.000 / 0.996\n"
          ]
        }
      ],
      "source": [
        "# Mini-Batch\n",
        "\n",
        "# cantidad de epochs\n",
        "epochs = 100\n",
        "\n",
        "train_loss_by_epoch=[]\n",
        "valid_loss_by_epoch=[]\n",
        "\n",
        "# Doble loop algoritmo Mini-Batch\n",
        "for epoch in range(epochs):\n",
        "  \n",
        "  ############################################\n",
        "  ## Entrenamiento\n",
        "  ############################################\n",
        "  nnnetWithEmbeddings.train(True)\n",
        "\n",
        "  epoch_loss = 0\n",
        "  epoch_y_hat = []\n",
        "  epoch_y = []\n",
        "  \n",
        "  for i,data in enumerate(train_dataloader_emb):\n",
        "    # Obtengo los datos del batch de entrenamiento\n",
        "    x_batch, embed_batch, y_batch = data\n",
        "    # Copio el batch al dispositivo donde entreno la red neuronal\n",
        "    x_batch = x_batch.to(device).float()\n",
        "    embed_batch = embed_batch.to(device).int()\n",
        "    y_batch = y_batch.to(device).float().reshape(-1, 1)\n",
        "\n",
        "    # Paso forward\n",
        "    # Limpio optimizer para empezar un nuevo cálculo de gradiente\n",
        "    optimizer.zero_grad()\n",
        "    nnet_output = nnnetWithEmbeddings(x_batch, embed_batch)\n",
        "    y_batch_hat = torch.sigmoid(nnet_output)\n",
        "    \n",
        "    # Calculo el loss\n",
        "    loss = loss_function(nnet_output, y_batch)\n",
        "\n",
        "    # Backpropagation\n",
        "    loss.backward()\n",
        "\n",
        "    # Actualizar los parámetros\n",
        "    optimizer.step()\n",
        "\n",
        "    # Almaceno los valores reales y mis predicciones para cálcular las métricas\n",
        "    epoch_y += list(y_batch.detach().cpu().numpy())\n",
        "    epoch_y_hat += list(y_batch_hat.detach().cpu().numpy())\n",
        "    # Acumulo la loss del batch\n",
        "    epoch_loss = epoch_loss + loss.item()\n",
        "\n",
        "  # Calculo la media de la loss\n",
        "  epoch_loss = epoch_loss / n_train\n",
        "  # Almaceno la loss de la epoch para graficar\n",
        "  train_loss_by_epoch.append(epoch_loss)\n",
        "  # Cálculo la métrica de la epoch\n",
        "  accuracy = metrics.accuracy_score(epoch_y, [j>=0.5 for j in epoch_y_hat])\n",
        "\n",
        "  ############################################\n",
        "  ## Validación\n",
        "  ############################################\n",
        "  # Desactivo el cálculo de gradiente para validación\n",
        "  nnnetWithEmbeddings.train(False)\n",
        "\n",
        "  valid_epoch_loss = 0\n",
        "  valid_epoch_y_hat = []\n",
        "  valid_epoch_y = []\n",
        "\n",
        "  for i,data in enumerate(valid_dataloader_emb):\n",
        "    # Obtengo los datos del batch de validación\n",
        "    x_batch, embed_batch, y_batch = data\n",
        "    # Copio el batch al dispositivo donde entreno la red neuronal\n",
        "    x_batch = x_batch.to(device).float()\n",
        "    embed_batch = embed_batch.to(device).int()\n",
        "    y_batch = y_batch.to(device).float().reshape(-1, 1)\n",
        "\n",
        "    # Paso forward\n",
        "    nnet_output = nnnetWithEmbeddings(x_batch, embed_batch)\n",
        "    y_batch_hat = torch.sigmoid(nnet_output)\n",
        "    \n",
        "    # Calculo el loss\n",
        "    loss = loss_function(nnet_output, y_batch)\n",
        "\n",
        "    # En validación no hago backpropagation!!\n",
        "\n",
        "    # Almaceno los valores reales y mis predicciones para cálcular las métricas\n",
        "    valid_epoch_y += list(y_batch.detach().cpu().numpy())\n",
        "    valid_epoch_y_hat += list(y_batch_hat.detach().cpu().numpy())\n",
        "    # Acumulo la loss del batch\n",
        "    valid_epoch_loss = valid_epoch_loss + loss.item()\n",
        "\n",
        "  # Calculo la media de la loss\n",
        "  valid_epoch_loss = valid_epoch_loss / n_valid\n",
        "  # Almaceno la loss de la epoch para graficar\n",
        "  valid_loss_by_epoch.append(valid_epoch_loss)\n",
        "  # Cálculo la métrica de la epoch\n",
        "  valid_accuracy = metrics.accuracy_score(valid_epoch_y, [j>=0.5 for j in valid_epoch_y_hat])\n",
        "\n",
        "  ############################################\n",
        "  ## Impresión de resultados por epoch\n",
        "  ############################################\n",
        "  print(f\" Epoch {epoch} | \" \\\n",
        "        f\"Train/Valid loss: {epoch_loss:.3f} / {valid_epoch_loss:.3f} | \" \\\n",
        "        f\"Train/Valid accuracy: {accuracy:.3f} / {valid_accuracy:.3f}\")"
      ]
    }
  ],
  "metadata": {
    "colab": {
      "provenance": []
    },
    "gpuClass": "standard",
    "kernelspec": {
      "display_name": "Python 3",
      "name": "python3"
    },
    "language_info": {
      "name": "python"
    }
  },
  "nbformat": 4,
  "nbformat_minor": 0
}
